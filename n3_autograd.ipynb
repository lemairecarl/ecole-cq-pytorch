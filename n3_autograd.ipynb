{
 "cells": [
  {
   "cell_type": "code",
   "execution_count": null,
   "metadata": {},
   "outputs": [],
   "source": [
    "import torch"
   ]
  },
  {
   "cell_type": "markdown",
   "metadata": {},
   "source": [
    "\n",
    "# Autograd: Dérivation automatique\n",
    "\n",
    "Grâce à `torch.autograd`, PyTorch permet d'**enregistrer \"on the fly\" le graphe** d'une suite d'opérations. Cela est utile pour **calculer le gradient** (dérivées partielles) d'une fonction par rapport à certains de ses paramètres.\n",
    "\n",
    "Ce qui distingue PyTorch (au moment de son apparition), c'est qu'il fonctionne avec le principe \"**define-by-run**\"; c'est-à-dire qu'au lieu que les graphes soient compilés à l'avance comme dans TensorFlow, les graphes sont définis à mesure que le code Python est éxécuté. Cela apporte une grande flexibilité et une facilité pour le prototypage.\n",
    "\n",
    "## Tensor\n",
    "\n",
    "`torch.Tensor` est la classe centrale de `torch.autograd`. Pour enregistrer toutes les opérations effectuées sur un tensor, il faut mettre sont attribut `.requires_grad` à `True`.\n",
    "\n",
    "Voyons un exemple. Supposons que nous voulons entraîner une régression linéaire de la forme `y = x @ w`, où `@` est une multiplication matricielle."
   ]
  },
  {
   "cell_type": "code",
   "execution_count": null,
   "metadata": {},
   "outputs": [],
   "source": [
    "x = torch.rand(2, 2)       # Données en entrée\n",
    "y_true = torch.rand(2)  # Données cible"
   ]
  },
  {
   "cell_type": "markdown",
   "metadata": {},
   "source": [
    "Créons le vecteur de poids `w` à entraîner."
   ]
  },
  {
   "cell_type": "code",
   "execution_count": null,
   "metadata": {},
   "outputs": [],
   "source": [
    "w = torch.rand(2, requires_grad=True)\n",
    "print(w)"
   ]
  },
  {
   "cell_type": "markdown",
   "metadata": {},
   "source": [
    "Maintenant, effectuons une inférence:"
   ]
  },
  {
   "cell_type": "code",
   "execution_count": null,
   "metadata": {},
   "outputs": [],
   "source": [
    "y_pred = x @ w\n",
    "print(y_pred)"
   ]
  },
  {
   "cell_type": "markdown",
   "metadata": {},
   "source": [
    "`y_pred` est le résultat d'une multiplication matricielle. Il a donc un attribut `grad_fn` qui référencie la fonction utilisée:"
   ]
  },
  {
   "cell_type": "code",
   "execution_count": null,
   "metadata": {},
   "outputs": [],
   "source": [
    "print(y_pred.grad_fn)"
   ]
  },
  {
   "cell_type": "markdown",
   "metadata": {},
   "source": [
    "Calculons maintenant l'erreur quadratique sur ces prédictions:"
   ]
  },
  {
   "cell_type": "code",
   "execution_count": null,
   "metadata": {},
   "outputs": [],
   "source": [
    "loss_per_element = (y_true - y_pred) ** 2\n",
    "loss = loss_per_element.mean()\n",
    "\n",
    "print(loss_per_element)\n",
    "print(loss)"
   ]
  },
  {
   "cell_type": "markdown",
   "metadata": {},
   "source": [
    "## Backpropagation des gradients\n",
    "\n",
    "Nous allons maintenant effectuer une \"backpropagation\" afin d'obtenir la dérivée de la loss par rapport aux paramètres:"
   ]
  },
  {
   "cell_type": "code",
   "execution_count": null,
   "metadata": {},
   "outputs": [],
   "source": [
    "loss.backward()"
   ]
  },
  {
   "cell_type": "markdown",
   "metadata": {},
   "source": [
    "PyTorch parcourt le graphe et place les valeurs de dérivées dans l'attribut `.grad` des tenseurs ayant demandé le calcul du leur gradient. Affichons le gradient de l'erreur par rapport à `w`:"
   ]
  },
  {
   "cell_type": "code",
   "execution_count": null,
   "metadata": {},
   "outputs": [],
   "source": [
    "print(w.grad)"
   ]
  },
  {
   "cell_type": "markdown",
   "metadata": {},
   "source": [
    "Grâce à ces dérivées partielles, nous pouvons maintenant faire une descente de gradient afin d'optimiser `w`:"
   ]
  },
  {
   "cell_type": "code",
   "execution_count": null,
   "metadata": {},
   "outputs": [],
   "source": [
    "w.data -= w.grad"
   ]
  },
  {
   "cell_type": "markdown",
   "metadata": {},
   "source": [
    "Faisons maintenant une nouvelle inférence, et calculons l'erreur:"
   ]
  },
  {
   "cell_type": "code",
   "execution_count": null,
   "metadata": {},
   "outputs": [],
   "source": [
    "old_loss = loss.item()\n",
    "\n",
    "y_pred = x @ w\n",
    "loss = ((y_true - y_pred) ** 2).mean() \n",
    "\n",
    "print('Avant', old_loss)\n",
    "print('Apres', loss.item())"
   ]
  },
  {
   "cell_type": "markdown",
   "metadata": {},
   "source": [
    "Remarquez que l'erreur a diminué! Magie!"
   ]
  },
  {
   "cell_type": "code",
   "execution_count": null,
   "metadata": {},
   "outputs": [],
   "source": []
  }
 ],
 "metadata": {
  "kernelspec": {
   "display_name": "Python 3",
   "language": "python",
   "name": "python3"
  },
  "language_info": {
   "codemirror_mode": {
    "name": "ipython",
    "version": 3
   },
   "file_extension": ".py",
   "mimetype": "text/x-python",
   "name": "python",
   "nbconvert_exporter": "python",
   "pygments_lexer": "ipython3",
   "version": "3.6.3"
  }
 },
 "nbformat": 4,
 "nbformat_minor": 1
}
