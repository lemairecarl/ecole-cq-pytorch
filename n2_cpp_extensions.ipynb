{
 "cells": [
  {
   "cell_type": "markdown",
   "metadata": {},
   "source": [
    "# Écrire une extension en C++ pour PyTorch\n",
    "\n",
    "Voir: https://pytorch.org/tutorials/advanced/cpp_extension.html\n",
    "\n",
    "PyTorch permet d'écrire des extensions en C++ qui pourront être utilisées dans un programme en Python. Il y a deux approches pour rendre une extension disponible au côté Python:\n",
    "\n",
    "* Compiler l'extension en un package Python, pour ensuite l'importer\n",
    "* Compiler l'extension façon \"JIT\" à partir de Python\n",
    "\n",
    "Nous verrons ici la deuxième option, car elle est délicieusement simple.\n",
    "\n",
    "## Écrire le code C++\n",
    "\n",
    "Le fichier `my_extension.cpp` (dans le dossier `my_extension` qui se trouve à côté de ce notebook) contient la fonction suivante:\n",
    "\n",
    "```cpp\n",
    "torch::Tensor d_sigmoid(torch::Tensor z) {\n",
    "    auto s = torch::sigmoid(z);\n",
    "    return (1 - s) * s;\n",
    "}\n",
    "```\n",
    "Le fichier contient aussi un `#include` et quelques lignes `PYBIND`.\n",
    "\n",
    "La syntaxe permettant d'écrire du code PyTorch en C++ est très similaire à celle en Python. Règle générale, il suffit de remplacer `torch.X` par `torch::X`, et ça va fonctionner. Voici l'équivalent Python de la fonction ci-haut:\n",
    "\n",
    "```python\n",
    "def d_sigmoid(z):\n",
    "    s = torch.sigmoid(z);\n",
    "    return (1 - s) * s;\n",
    "```\n",
    "\n",
    "## Charger l'extension façon JIT"
   ]
  },
  {
   "cell_type": "code",
   "execution_count": null,
   "metadata": {},
   "outputs": [],
   "source": [
    "import torch\n",
    "from torch.utils.cpp_extension import load"
   ]
  },
  {
   "cell_type": "code",
   "execution_count": null,
   "metadata": {},
   "outputs": [],
   "source": [
    "my_extension_cpp = load('my_extension_cpp', ['my_extension/my_extension.cpp'], verbose=True)"
   ]
  },
  {
   "cell_type": "code",
   "execution_count": null,
   "metadata": {},
   "outputs": [],
   "source": [
    "my_extension_cpp.d_sigmoid"
   ]
  },
  {
   "cell_type": "code",
   "execution_count": null,
   "metadata": {},
   "outputs": [],
   "source": [
    "my_extension_cpp.d_sigmoid(torch.ones(2))"
   ]
  },
  {
   "cell_type": "code",
   "execution_count": null,
   "metadata": {},
   "outputs": [],
   "source": []
  }
 ],
 "metadata": {
  "kernelspec": {
   "display_name": "Python 3",
   "language": "python",
   "name": "python3"
  },
  "language_info": {
   "codemirror_mode": {
    "name": "ipython",
    "version": 3
   },
   "file_extension": ".py",
   "mimetype": "text/x-python",
   "name": "python",
   "nbconvert_exporter": "python",
   "pygments_lexer": "ipython3",
   "version": "3.6.3"
  }
 },
 "nbformat": 4,
 "nbformat_minor": 2
}
