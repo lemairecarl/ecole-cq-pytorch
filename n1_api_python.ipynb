{
 "cells": [
  {
   "cell_type": "markdown",
   "metadata": {},
   "source": [
    "Adapté de https://pytorch.org/tutorials/beginner/deep_learning_60min_blitz.html\n",
    "\n",
    "# Qu'est-ce que PyTorch?\n",
    "\n",
    "-  Une librairie pouvant remplacer **NumPy** et permettant une **accélération GPU**\n",
    "-  Une plateforme pour la **recherche en Deep Learning** offrant un maximum de **flexibilité et de rapidité**\n",
    "\n",
    "## Tenseurs (`Tensor`)\n",
    "\n",
    "Les tenseurs sont similaires aux `ndarray` de NumPy, et peuvent être utilisés sur GPU."
   ]
  },
  {
   "cell_type": "code",
   "execution_count": 32,
   "metadata": {},
   "outputs": [],
   "source": [
    "import torch\n",
    "import numpy as np"
   ]
  },
  {
   "cell_type": "markdown",
   "metadata": {},
   "source": [
    "Construisons une matrice 5x3 non-initialisée:"
   ]
  },
  {
   "cell_type": "code",
   "execution_count": 33,
   "metadata": {},
   "outputs": [
    {
     "name": "stdout",
     "output_type": "stream",
     "text": [
      "tensor([[1.4426e-36, 0.0000e+00, 1.4714e-43],\n",
      "        [1.5414e-43, 1.6255e-43, 5.6052e-44],\n",
      "        [1.6816e-43, 1.2752e-43, 8.1275e-44],\n",
      "        [6.1657e-44, 4.4842e-44, 6.8664e-44],\n",
      "        [1.3032e-43, 5.7453e-44, 1.0681e-05]])\n"
     ]
    }
   ],
   "source": [
    "x = torch.empty(5, 3)\n",
    "print(x)"
   ]
  },
  {
   "cell_type": "markdown",
   "metadata": {},
   "source": [
    "Construisons une matrice 5x3 de nombre aléatoires (entre 0 et 1):"
   ]
  },
  {
   "cell_type": "code",
   "execution_count": 34,
   "metadata": {},
   "outputs": [
    {
     "name": "stdout",
     "output_type": "stream",
     "text": [
      "tensor([[0.3933, 0.0094, 0.3518],\n",
      "        [0.2470, 0.4679, 0.0403],\n",
      "        [0.4564, 0.7307, 0.1192],\n",
      "        [0.0067, 0.7419, 0.1859],\n",
      "        [0.6745, 0.2331, 0.2262]])\n"
     ]
    }
   ],
   "source": [
    "x = torch.rand(5, 3)\n",
    "print(x)"
   ]
  },
  {
   "cell_type": "markdown",
   "metadata": {},
   "source": [
    "Construisons une matrice remplie de zéros, et de type `long`:"
   ]
  },
  {
   "cell_type": "code",
   "execution_count": 35,
   "metadata": {},
   "outputs": [
    {
     "name": "stdout",
     "output_type": "stream",
     "text": [
      "tensor([[0, 0, 0],\n",
      "        [0, 0, 0],\n",
      "        [0, 0, 0],\n",
      "        [0, 0, 0],\n",
      "        [0, 0, 0]])\n"
     ]
    }
   ],
   "source": [
    "x = torch.zeros(5, 3, dtype=torch.long)\n",
    "print(x)"
   ]
  },
  {
   "cell_type": "markdown",
   "metadata": {},
   "source": [
    "Construisons une matrice à partir de données:"
   ]
  },
  {
   "cell_type": "code",
   "execution_count": 36,
   "metadata": {},
   "outputs": [
    {
     "name": "stdout",
     "output_type": "stream",
     "text": [
      "tensor([5.5000, 3.0000])\n"
     ]
    }
   ],
   "source": [
    "x = torch.tensor([5.5, 3])\n",
    "print(x)"
   ]
  },
  {
   "cell_type": "code",
   "execution_count": 37,
   "metadata": {},
   "outputs": [
    {
     "name": "stdout",
     "output_type": "stream",
     "text": [
      "tensor([[1, 0],\n",
      "        [0, 1]])\n"
     ]
    }
   ],
   "source": [
    "x = torch.tensor([[1, 0], [0, 1]])\n",
    "print(x)"
   ]
  },
  {
   "cell_type": "markdown",
   "metadata": {},
   "source": [
    "Note: Les fonctions `torch.*_like(x)` fonctionnent de la même façon qu'avec NumPy (e.g. `zeros_like(x)`)"
   ]
  },
  {
   "cell_type": "markdown",
   "metadata": {},
   "source": [
    "Affichons les dimensions du tenseur:"
   ]
  },
  {
   "cell_type": "code",
   "execution_count": 38,
   "metadata": {},
   "outputs": [
    {
     "name": "stdout",
     "output_type": "stream",
     "text": [
      "torch.Size([2, 2])\n",
      "torch.Size([2, 2])\n"
     ]
    }
   ],
   "source": [
    "print(x.size())\n",
    "print(x.shape)"
   ]
  },
  {
   "cell_type": "markdown",
   "metadata": {},
   "source": [
    "Note: `torch.Size` est une sous-classe de `tuple`.\n",
    "\n",
    "Vous pouvez aussi obtenir la taille d'une seule dimension d'un coup:"
   ]
  },
  {
   "cell_type": "code",
   "execution_count": 39,
   "metadata": {},
   "outputs": [
    {
     "name": "stdout",
     "output_type": "stream",
     "text": [
      "2\n"
     ]
    }
   ],
   "source": [
    "print(x.size(0))"
   ]
  },
  {
   "cell_type": "markdown",
   "metadata": {},
   "source": [
    "## Opérations\n",
    "\n",
    "Les opérations sur les tenseurs peuvent être faites avec différentes syntaxes. Regardons l'exemple de l'addition.\n",
    "\n",
    "**Addition: syntaxe 1**"
   ]
  },
  {
   "cell_type": "code",
   "execution_count": 40,
   "metadata": {},
   "outputs": [
    {
     "name": "stdout",
     "output_type": "stream",
     "text": [
      "tensor([[1.4671, 1.8284, 1.2437],\n",
      "        [1.6272, 1.3705, 1.7590],\n",
      "        [1.2207, 1.1970, 1.5704],\n",
      "        [1.2498, 1.3075, 1.0013],\n",
      "        [1.0461, 1.7843, 1.2826]])\n"
     ]
    }
   ],
   "source": [
    "x = torch.rand(5, 3)\n",
    "y = torch.ones_like(x)\n",
    "\n",
    "somme = x + y\n",
    "print(somme)"
   ]
  },
  {
   "cell_type": "markdown",
   "metadata": {},
   "source": [
    "**Addition: syntaxe 2**"
   ]
  },
  {
   "cell_type": "code",
   "execution_count": 41,
   "metadata": {},
   "outputs": [
    {
     "name": "stdout",
     "output_type": "stream",
     "text": [
      "tensor([[1.4671, 1.8284, 1.2437],\n",
      "        [1.6272, 1.3705, 1.7590],\n",
      "        [1.2207, 1.1970, 1.5704],\n",
      "        [1.2498, 1.3075, 1.0013],\n",
      "        [1.0461, 1.7843, 1.2826]])\n"
     ]
    }
   ],
   "source": [
    "somme = torch.add(x, y)\n",
    "print(somme)"
   ]
  },
  {
   "cell_type": "markdown",
   "metadata": {},
   "source": [
    "**Addition: fournir un tenseur de destination**"
   ]
  },
  {
   "cell_type": "code",
   "execution_count": 42,
   "metadata": {},
   "outputs": [
    {
     "name": "stdout",
     "output_type": "stream",
     "text": [
      "tensor([[1.4671, 1.8284, 1.2437],\n",
      "        [1.6272, 1.3705, 1.7590],\n",
      "        [1.2207, 1.1970, 1.5704],\n",
      "        [1.2498, 1.3075, 1.0013],\n",
      "        [1.0461, 1.7843, 1.2826]])\n"
     ]
    }
   ],
   "source": [
    "somme = torch.empty(5, 3)\n",
    "torch.add(x, y, out=somme)\n",
    "print(somme)"
   ]
  },
  {
   "cell_type": "markdown",
   "metadata": {},
   "source": [
    "**Addition: \"in-place\"**"
   ]
  },
  {
   "cell_type": "code",
   "execution_count": 43,
   "metadata": {},
   "outputs": [
    {
     "name": "stdout",
     "output_type": "stream",
     "text": [
      "tensor([[1.4671, 1.8284, 1.2437],\n",
      "        [1.6272, 1.3705, 1.7590],\n",
      "        [1.2207, 1.1970, 1.5704],\n",
      "        [1.2498, 1.3075, 1.0013],\n",
      "        [1.0461, 1.7843, 1.2826]])\n"
     ]
    }
   ],
   "source": [
    "y.add_(x)  # équivalent à torch.add(x, y, out=y)\n",
    "print(y)"
   ]
  },
  {
   "cell_type": "markdown",
   "metadata": {},
   "source": [
    "Note: les méthodes opérant \"in-place\" ont le suffixe `_`. Par exemple, `x.t_()` transpose `x`, alors que `x.t()` retourne un nouveau tenseur contenant `x` transposé.\n",
    "\n",
    "**Indiçage**\n",
    "\n",
    "Vous pouvez utiliser la même syntaxe qu'avec NumPy, même pour les cas complexes!"
   ]
  },
  {
   "cell_type": "code",
   "execution_count": 44,
   "metadata": {},
   "outputs": [
    {
     "name": "stdout",
     "output_type": "stream",
     "text": [
      "tensor([0.8284, 0.3705, 0.1970, 0.3075, 0.7843])\n",
      "tensor([[0.8284],\n",
      "        [0.3705],\n",
      "        [0.1970],\n",
      "        [0.3075],\n",
      "        [0.7843]])\n"
     ]
    }
   ],
   "source": [
    "print(x[:, 1])\n",
    "print(x[:, np.newaxis, 1])"
   ]
  },
  {
   "cell_type": "markdown",
   "metadata": {},
   "source": [
    "`torch.reshape` est équivalent à `numpy.reshape`. Cependant, `torch.view` est plus souvent utilisée (mais ne fonctionne que lorsqu'une les valeurs n'ont pas à être copiées):"
   ]
  },
  {
   "cell_type": "code",
   "execution_count": 45,
   "metadata": {},
   "outputs": [
    {
     "name": "stdout",
     "output_type": "stream",
     "text": [
      "torch.Size([4, 4])\n",
      "torch.Size([16])\n",
      "torch.Size([2, 8])\n"
     ]
    }
   ],
   "source": [
    "x = torch.randn(4, 4)\n",
    "print(x.size())\n",
    "\n",
    "y = x.view(16)\n",
    "print(y.size())\n",
    "\n",
    "z = x.view(-1, 8)  # -1 permet d'inférer automatiquement les autres dimensions\n",
    "print(z.size())"
   ]
  },
  {
   "cell_type": "markdown",
   "metadata": {},
   "source": [
    "Si vous avez un tenseur contenant un seul élément, utilisez `.item()` pour obtenir la valeur sous forme de nombre Python:"
   ]
  },
  {
   "cell_type": "code",
   "execution_count": 46,
   "metadata": {},
   "outputs": [
    {
     "name": "stdout",
     "output_type": "stream",
     "text": [
      "tensor(0.2026)\n",
      "0.2025759518146515\n"
     ]
    }
   ],
   "source": [
    "x = torch.randn(4).mean()\n",
    "print(x)\n",
    "print(x.item())"
   ]
  },
  {
   "cell_type": "markdown",
   "metadata": {},
   "source": [
    "**À voir plus tard:** 100+ opérations, includant transposée, indiçage, _slicing_, algèbre linéaire, nombres aléatoires, etc. : https://pytorch.org/docs/torch"
   ]
  },
  {
   "cell_type": "markdown",
   "metadata": {},
   "source": [
    "# Interopérabilité avec NumPy\n",
    "\n",
    "La conversion d'un tenseur PyTorch en un NumPy array, et vice versa, est simple comme bonjour.\n",
    "\n",
    "Le tenseur et le NumPy array utiliseront le même espace mémoire (si le tenseur n'est pas sur GPU); modifier l'un modifie l'autre du même coup.\n",
    "\n",
    "## Conversion PyTorch --> NumPy"
   ]
  },
  {
   "cell_type": "code",
   "execution_count": 47,
   "metadata": {},
   "outputs": [
    {
     "name": "stdout",
     "output_type": "stream",
     "text": [
      "<class 'torch.Tensor'>\n",
      "tensor([1., 1., 1., 1., 1.])\n"
     ]
    }
   ],
   "source": [
    "a = torch.ones(5)\n",
    "print(type(a))\n",
    "print(a)"
   ]
  },
  {
   "cell_type": "code",
   "execution_count": 48,
   "metadata": {},
   "outputs": [
    {
     "name": "stdout",
     "output_type": "stream",
     "text": [
      "<class 'numpy.ndarray'>\n",
      "[1. 1. 1. 1. 1.]\n"
     ]
    }
   ],
   "source": [
    "b = a.numpy()\n",
    "print(type(b))\n",
    "print(b)"
   ]
  },
  {
   "cell_type": "markdown",
   "metadata": {},
   "source": [
    "Modifions le tenseur et observons le changement dans le NumPy array:"
   ]
  },
  {
   "cell_type": "code",
   "execution_count": 49,
   "metadata": {},
   "outputs": [
    {
     "name": "stdout",
     "output_type": "stream",
     "text": [
      "tensor([2., 2., 2., 2., 2.])\n",
      "[2. 2. 2. 2. 2.]\n"
     ]
    }
   ],
   "source": [
    "a.add_(1)\n",
    "print(a)\n",
    "print(b)"
   ]
  },
  {
   "cell_type": "markdown",
   "metadata": {},
   "source": [
    "## Conversion NumPy --> PyTorch"
   ]
  },
  {
   "cell_type": "code",
   "execution_count": 50,
   "metadata": {},
   "outputs": [
    {
     "name": "stdout",
     "output_type": "stream",
     "text": [
      "[2. 2. 2. 2. 2.]\n",
      "tensor([2., 2., 2., 2., 2.], dtype=torch.float64)\n"
     ]
    }
   ],
   "source": [
    "a = np.ones(5)\n",
    "b = torch.from_numpy(a)\n",
    "np.add(a, 1, out=a)\n",
    "print(a)\n",
    "print(b)"
   ]
  },
  {
   "cell_type": "markdown",
   "metadata": {},
   "source": [
    "\n",
    "# Placer un tenseur sur GPU\n",
    "\n",
    "Les tenseurs peuvent être placés sur un appareil (`torch.device`) avec la méthode `.to`:"
   ]
  },
  {
   "cell_type": "code",
   "execution_count": 51,
   "metadata": {},
   "outputs": [
    {
     "name": "stdout",
     "output_type": "stream",
     "text": [
      "tensor([[1.8158, 1.7368],\n",
      "        [1.5822, 1.6473]], device='cuda:0')\n",
      "tensor([[1.8158, 1.7368],\n",
      "        [1.5822, 1.6473]], dtype=torch.float64)\n"
     ]
    }
   ],
   "source": [
    "assert torch.cuda.device_count() > 0, \"On va avoir besoin d'un GPU\"\n",
    "\n",
    "device = torch.device(\"cuda\")\n",
    "x = torch.rand(2, 2, device=device)    # créer un tenseur directement sur GPU\n",
    "y = torch.ones_like(x)\n",
    "x = x.to(device)                       # placer un tenseur existant sur GPU\n",
    "z = x + y\n",
    "print(z)\n",
    "print(z.to(\"cpu\", torch.double))       # ``.to`` peut aussi changer le type du même coup"
   ]
  },
  {
   "cell_type": "code",
   "execution_count": null,
   "metadata": {},
   "outputs": [],
   "source": []
  }
 ],
 "metadata": {
  "kernelspec": {
   "display_name": "Python 3",
   "language": "python",
   "name": "python3"
  },
  "language_info": {
   "codemirror_mode": {
    "name": "ipython",
    "version": 3
   },
   "file_extension": ".py",
   "mimetype": "text/x-python",
   "name": "python",
   "nbconvert_exporter": "python",
   "pygments_lexer": "ipython3",
   "version": "3.6.7"
  }
 },
 "nbformat": 4,
 "nbformat_minor": 1
}
